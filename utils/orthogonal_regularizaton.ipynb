{
 "cells": [
  {
   "cell_type": "code",
   "execution_count": null,
   "metadata": {},
   "outputs": [],
   "source": [
    "from __future__ import absolute_import, print_function\n",
    "import torch\n",
    "import torch.nn as nn\n",
    "from torch.autograd import Variable\n",
    "\n",
    "\n",
    "def orth_reg(net, loss, cof=1):\n",
    "    orth_loss = 0\n",
    "    for m in net.modules():\n",
    "        if isinstance(m, nn.Linear):\n",
    "            w = m.weight\n",
    "            # embedding dimension\n",
    "            dimension = w.size()[0]\n",
    "            # eye_ = torch.eye(dimension).cuda()\n",
    "            eye_ = Variable(torch.eye(dimension),  requires_grad=False).cuda()\n",
    "            diff = torch.matmul(w, w.t()) - eye_\n",
    "\n",
    "            # ignore the diagonal elements\n",
    "            mask_ = eye_ == 0\n",
    "            diff = torch.masked_select(diff, mask=mask_)\n",
    "\n",
    "            _loss = torch.mean(torch.abs(diff))\n",
    "            orth_loss += cof*_loss\n",
    "            loss = loss + orth_loss\n",
    "    return loss\n"
   ]
  }
 ],
 "metadata": {
  "kernelspec": {
   "display_name": "Python 2",
   "language": "python",
   "name": "python2"
  },
  "language_info": {
   "codemirror_mode": {
    "name": "ipython",
    "version": 2
   },
   "file_extension": ".py",
   "mimetype": "text/x-python",
   "name": "python",
   "nbconvert_exporter": "python",
   "pygments_lexer": "ipython2",
   "version": "2.7.17"
  }
 },
 "nbformat": 4,
 "nbformat_minor": 2
}
