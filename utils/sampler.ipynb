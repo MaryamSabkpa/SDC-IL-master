{
 "cells": [
  {
   "cell_type": "code",
   "execution_count": null,
   "metadata": {},
   "outputs": [],
   "source": [
    "from __future__ import absolute_import\n",
    "from collections import defaultdict\n",
    "\n",
    "import numpy as np\n",
    "import torch\n",
    "from torch.utils.data.sampler import (\n",
    "    Sampler, SequentialSampler, RandomSampler, SubsetRandomSampler,\n",
    "    WeightedRandomSampler)\n",
    "\n",
    "\n",
    "class RandomIdentitySampler(Sampler):\n",
    "    def __init__(self, data_source, num_instances=1):\n",
    "        self.data_source = data_source\n",
    "        self.num_instances = num_instances\n",
    "        self.index_dic = defaultdict(list)\n",
    "\n",
    "        for index,  (_, pid) in enumerate(data_source):\n",
    "            self.index_dic[pid].append(index)\n",
    "\n",
    "        self.pids = list(self.index_dic.keys())\n",
    "        self.num_samples = len(self.pids)\n",
    "        # print(len(self))\n",
    "        # print(self.num_samples)\n",
    "\n",
    "    def __len__(self):\n",
    "        return self.num_samples * self.num_instances\n",
    "\n",
    "    def __iter__(self):\n",
    "        indices = torch.randperm(self.num_samples)\n",
    "        ret = []\n",
    "        for i in indices:\n",
    "            pid = self.pids[i]\n",
    "            t = self.index_dic[pid]\n",
    "            if len(t) >= self.num_instances:\n",
    "                t = np.random.choice(t, size=self.num_instances, replace=False)\n",
    "            else:\n",
    "                t = np.random.choice(t, size=self.num_instances, replace=True)\n",
    "            ret.extend(t)\n",
    "        return iter(ret)\n"
   ]
  }
 ],
 "metadata": {
  "kernelspec": {
   "display_name": "Python 2",
   "language": "python",
   "name": "python2"
  },
  "language_info": {
   "codemirror_mode": {
    "name": "ipython",
    "version": 2
   },
   "file_extension": ".py",
   "mimetype": "text/x-python",
   "name": "python",
   "nbconvert_exporter": "python",
   "pygments_lexer": "ipython2",
   "version": "2.7.17"
  }
 },
 "nbformat": 4,
 "nbformat_minor": 2
}
