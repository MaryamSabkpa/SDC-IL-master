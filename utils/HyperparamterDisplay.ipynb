{
 "cells": [
  {
   "cell_type": "code",
   "execution_count": null,
   "metadata": {},
   "outputs": [],
   "source": [
    "from __future__ import print_function, absolute_import\n",
    "\n",
    "\n",
    "def display(args):\n",
    "    #  Display information of current training\n",
    "    print('Learn Rate  \\t%.1e' % args.lr)\n",
    "    print('Epochs  \\t%05d' % args.epochs)\n",
    "    print('Log Path \\t%s' % args.log_dir)\n",
    "    print('Network \\t %s' % args.net)\n",
    "    print('Data Set \\t %s' % args.data)\n",
    "    print('Batch Size  \\t %d' % args.BatchSize)\n",
    "    print('Num-Instance  \\t %d' % args.num_instances)\n",
    "    print('Embedded Dimension \\t %d' % args.dim)\n",
    "\n",
    "    print('Loss Function \\t%s' % args.loss)\n",
    "    print('Number of Neighbour \\t%d' % args.k)\n",
    "    print('Alpha \\t %d' % args.alpha)\n",
    "\n",
    "    print('Begin to fine tune BN-inception Network')\n",
    "    print(40*'#')"
   ]
  }
 ],
 "metadata": {
  "kernelspec": {
   "display_name": "Python 2",
   "language": "python",
   "name": "python2"
  },
  "language_info": {
   "codemirror_mode": {
    "name": "ipython",
    "version": 2
   },
   "file_extension": ".py",
   "mimetype": "text/x-python",
   "name": "python",
   "nbconvert_exporter": "python",
   "pygments_lexer": "ipython2",
   "version": "2.7.17"
  }
 },
 "nbformat": 4,
 "nbformat_minor": 2
}
