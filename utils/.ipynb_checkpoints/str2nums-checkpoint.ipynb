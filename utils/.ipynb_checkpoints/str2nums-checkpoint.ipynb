{
 "cells": [
  {
   "cell_type": "code",
   "execution_count": null,
   "metadata": {},
   "outputs": [],
   "source": [
    "from __future__ import absolute_import\n",
    "\n",
    "\n",
    "def chars2nums(a):\n",
    "    nums_list = ['0']\n",
    "    for k in a:\n",
    "        # print(k)\n",
    "        if k == ',':\n",
    "            nums_list.append('0')\n",
    "        else:\n",
    "            nums_list[-1] = nums_list[-1] + k\n",
    "\n",
    "    return [int(char_) for char_ in nums_list]\n",
    "    \n"
   ]
  }
 ],
 "metadata": {
  "kernelspec": {
   "display_name": "Python 2",
   "language": "python",
   "name": "python2"
  },
  "language_info": {
   "codemirror_mode": {
    "name": "ipython",
    "version": 2
   },
   "file_extension": ".py",
   "mimetype": "text/x-python",
   "name": "python",
   "nbconvert_exporter": "python",
   "pygments_lexer": "ipython2",
   "version": "2.7.17"
  }
 },
 "nbformat": 4,
 "nbformat_minor": 2
}
