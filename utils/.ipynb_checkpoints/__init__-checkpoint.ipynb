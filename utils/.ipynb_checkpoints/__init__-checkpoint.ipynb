{
 "cells": [
  {
   "cell_type": "code",
   "execution_count": null,
   "metadata": {},
   "outputs": [],
   "source": [
    "from __future__ import absolute_import\n",
    "from .meters import *\n",
    "from .sampler import RandomIdentitySampler\n",
    "import torch\n",
    "from .osutils import mkdir_if_missing\n",
    "from .orthogonal_regularizaton import orth_reg\n",
    "from .str2nums import chars2nums\n",
    "from .HyperparamterDisplay import display\n",
    "\n",
    "def to_numpy(tensor):\n",
    "    if torch.is_tensor(tensor):\n",
    "        return tensor.cpu().numpy()\n",
    "    elif type(tensor).__module__ != 'numpy':\n",
    "        raise ValueError(\"Cannot convert {} to numpy array\"\n",
    "                         .format(type(tensor)))\n",
    "    return tensor\n",
    "\n",
    "\n",
    "def to_torch(ndarray):\n",
    "    if type(ndarray).__module__ == 'numpy':\n",
    "        return torch.from_numpy(ndarray)\n",
    "    elif not torch.is_tensor(ndarray):\n",
    "        raise ValueError(\"Cannot convert {} to torch tensor\"\n",
    "                         .format(type(ndarray)))\n",
    "    return ndarray\n",
    "\n"
   ]
  }
 ],
 "metadata": {
  "kernelspec": {
   "display_name": "Python 2",
   "language": "python",
   "name": "python2"
  },
  "language_info": {
   "codemirror_mode": {
    "name": "ipython",
    "version": 2
   },
   "file_extension": ".py",
   "mimetype": "text/x-python",
   "name": "python",
   "nbconvert_exporter": "python",
   "pygments_lexer": "ipython2",
   "version": "2.7.17"
  }
 },
 "nbformat": 4,
 "nbformat_minor": 2
}
