{
 "cells": [
  {
   "cell_type": "code",
   "execution_count": null,
   "metadata": {},
   "outputs": [],
   "source": [
    "from __future__ import absolute_import\n",
    "import os\n",
    "import sys\n",
    "\n",
    "from .osutils import mkdir_if_missing\n",
    "\n",
    "\n",
    "class Logger(object):\n",
    "    def __init__(self, fpath=None):\n",
    "        self.console = sys.stdout\n",
    "        self.file = None\n",
    "        if fpath is not None:\n",
    "            mkdir_if_missing(os.path.dirname(fpath))\n",
    "            self.file = open(fpath, 'w')\n",
    "\n",
    "    def __del__(self):\n",
    "        self.close()\n",
    "\n",
    "    def __enter__(self):\n",
    "        pass\n",
    "\n",
    "    def __exit__(self, *args):\n",
    "        self.close()\n",
    "\n",
    "    def write(self, msg):\n",
    "        self.console.write(msg)\n",
    "        if self.file is not None:\n",
    "            self.file.write(msg)\n",
    "\n",
    "    def flush(self):\n",
    "        self.console.flush()\n",
    "        if self.file is not None:\n",
    "            self.file.flush()\n",
    "            os.fsync(self.file.fileno())\n",
    "\n",
    "    def close(self):\n",
    "        self.console.close()\n",
    "        if self.file is not None:\n",
    "            self.file.close()\n"
   ]
  }
 ],
 "metadata": {
  "kernelspec": {
   "display_name": "Python 2",
   "language": "python",
   "name": "python2"
  },
  "language_info": {
   "codemirror_mode": {
    "name": "ipython",
    "version": 2
   },
   "file_extension": ".py",
   "mimetype": "text/x-python",
   "name": "python",
   "nbconvert_exporter": "python",
   "pygments_lexer": "ipython2",
   "version": "2.7.17"
  }
 },
 "nbformat": 4,
 "nbformat_minor": 2
}
