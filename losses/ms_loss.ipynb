{
 "cells": [
  {
   "cell_type": "code",
   "execution_count": null,
   "metadata": {},
   "outputs": [],
   "source": [
    "import torch\n",
    "from torch import nn\n",
    "\n",
    "\n",
    "class MultiSimilarityLoss(nn.Module):\n",
    "    '''\n",
    "    Base source code taken from the orig. implementation: \n",
    "    https://github.com/MalongTech/research-ms-loss/\n",
    "    '''\n",
    "    def __init__(self, thresh=0.5, _margin=0.1, scale_pos=2.0, scale_neg=40.0, **kwargs):\n",
    "        super(MultiSimilarityLoss, self).__init__()\n",
    "        self.thresh = thresh\n",
    "        self.margin = _margin\n",
    "        self.scale_pos = scale_pos\n",
    "        self.scale_neg = scale_neg\n",
    "        self.epsilon = 1e-5\n",
    "\n",
    "    def forward(self, feats, labels):\n",
    "        assert feats.size(0) == labels.size(0), \\\n",
    "            \"feats.size(0): {feats.size(0)} is not equal to labels.size(0): {labels.size(0)}\"\n",
    "\n",
    "        batch_size = feats.size(0)\n",
    "        sim_mat = torch.matmul(feats, torch.t(feats))\n",
    "\n",
    "        loss = torch.tensor(0.0)\n",
    "        if feats.is_cuda:\n",
    "            loss = loss.cuda()\n",
    "\n",
    "        for i in range(batch_size):\n",
    "            pos_pair_ = sim_mat[i][labels == labels[i]]\n",
    "            pos_pair_ = pos_pair_[pos_pair_ < 1 - self.epsilon]\n",
    "            neg_pair_ = sim_mat[i][labels != labels[i]]\n",
    "\n",
    "            if len(neg_pair_) < 1 or len(pos_pair_) < 1:\n",
    "                continue\n",
    "\n",
    "            neg_pair = neg_pair_[neg_pair_ + self.margin > min(pos_pair_)]\n",
    "            pos_pair = pos_pair_[pos_pair_ - self.margin < max(neg_pair_)]\n",
    "\n",
    "            if len(neg_pair) < 1 or len(pos_pair) < 1:\n",
    "                continue\n",
    "\n",
    "            # weighting step\n",
    "            pos_loss = 1.0 / self.scale_pos * torch.log(\n",
    "                1 + torch.sum(torch.exp(-self.scale_pos * (pos_pair - self.thresh)))\n",
    "            )\n",
    "            neg_loss = 1.0 / self.scale_neg * torch.log(\n",
    "                1 + torch.sum(torch.exp(self.scale_neg * (neg_pair - self.thresh)))\n",
    "            )\n",
    "            loss += pos_loss + neg_loss\n",
    "\n",
    "        if loss == 0:\n",
    "            return torch.zeros([], requires_grad=True)\n",
    "\n",
    "        return loss / batch_size"
   ]
  }
 ],
 "metadata": {
  "kernelspec": {
   "display_name": "Python 2",
   "language": "python",
   "name": "python2"
  },
  "language_info": {
   "codemirror_mode": {
    "name": "ipython",
    "version": 2
   },
   "file_extension": ".py",
   "mimetype": "text/x-python",
   "name": "python",
   "nbconvert_exporter": "python",
   "pygments_lexer": "ipython2",
   "version": "2.7.17"
  }
 },
 "nbformat": 4,
 "nbformat_minor": 2
}
