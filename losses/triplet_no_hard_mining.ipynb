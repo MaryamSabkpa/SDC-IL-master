{
 "cells": [
  {
   "cell_type": "code",
   "execution_count": null,
   "metadata": {},
   "outputs": [],
   "source": [
    "from __future__ import absolute_import\n",
    "\n",
    "import torch\n",
    "from torch import nn\n",
    "from torch.autograd import Variable\n",
    "import pdb\n",
    "\n",
    "\n",
    "class TripletLossNoHardMining(nn.Module):\n",
    "    def __init__(self, margin=0, num_instances=8):\n",
    "        super(TripletLossNoHardMining, self).__init__()\n",
    "        self.margin = margin\n",
    "        self.num_instances = num_instances\n",
    "        self.ranking_loss = nn.MarginRankingLoss(margin=margin)\n",
    "\n",
    "    def forward(self, inputs, targets):\n",
    "        n = inputs.size(0)\n",
    "        # Compute pairwise distance, replace by the official when merged\n",
    "        dist = torch.pow(inputs, 2).sum(dim=1, keepdim=True).expand(n, n)\n",
    "        dist = dist + dist.t()\n",
    "        dist.addmm_(1, -2, inputs, inputs.t())\n",
    "        dist = dist.clamp(min=1e-12).sqrt()  # for numerical stability\n",
    "        # For each anchor, find the hardest positive and negative\n",
    "        mask = targets.expand(n, n).eq(targets.expand(n, n).t())\n",
    "        dist_ap, dist_an = [], []\n",
    "        for i in range(n):\n",
    "            for j in range(self.num_instances-1):\n",
    "                tmp = dist[i][mask[i]]\n",
    "                dist_ap.append(tmp[j+1])\n",
    "                tmp = dist[i][mask[i] == 0]\n",
    "                dist_an.append(tmp[j+1])\n",
    "        dist_ap = torch.stack(dist_ap)\n",
    "        dist_an = torch.stack(dist_an)\n",
    "        # Compute ranking hinge loss\n",
    "        y = dist_an.data.new()\n",
    "        y.resize_as_(dist_an.data)\n",
    "        y.fill_(1)\n",
    "        y = Variable(y)\n",
    "        loss = self.ranking_loss(dist_an, dist_ap, y)\n",
    "        prec = (dist_an.data > dist_ap.data).sum() * 1. / y.size(0)\n",
    "        dist_p = torch.mean(dist_ap).data[0]\n",
    "        dist_n = torch.mean(dist_an).data[0]\n",
    "        return loss, prec, dist_p, dist_n\n"
   ]
  }
 ],
 "metadata": {
  "kernelspec": {
   "display_name": "Python 2",
   "language": "python",
   "name": "python2"
  },
  "language_info": {
   "codemirror_mode": {
    "name": "ipython",
    "version": 2
   },
   "file_extension": ".py",
   "mimetype": "text/x-python",
   "name": "python",
   "nbconvert_exporter": "python",
   "pygments_lexer": "ipython2",
   "version": "2.7.17"
  }
 },
 "nbformat": 4,
 "nbformat_minor": 2
}
