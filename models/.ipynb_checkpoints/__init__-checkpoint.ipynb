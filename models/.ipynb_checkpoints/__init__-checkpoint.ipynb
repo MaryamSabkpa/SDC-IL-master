{
 "cells": [
  {
   "cell_type": "code",
   "execution_count": null,
   "metadata": {},
   "outputs": [],
   "source": [
    "from .inception import inception_v3\n",
    "from .BN_Inception import BNInception\n",
    "from .resnet import resnet101\n",
    "from .resnet import resnet50\n",
    "from .resnet import resnet34\n",
    "from .resnet import resnet32\n",
    "from .resnet import resnet18\n",
    "from .VGG import vgg16\n",
    "from .alexnet import alexnet\n",
    "\n",
    "__factory = {\n",
    "    'bn': BNInception,\n",
    "    'inception': inception_v3,\n",
    "    'resnet101': resnet101,\n",
    "    'resnet50': resnet50,\n",
    "    'resnet34': resnet34,\n",
    "    'resnet32': resnet32,\n",
    "    'resnet18': resnet18,\n",
    "    'vgg16': vgg16,\n",
    "    'alexnet': alexnet,\n",
    "}\n",
    "\n",
    "\n",
    "def names():\n",
    "    return sorted(__factory.keys())\n",
    "\n",
    "\n",
    "def create(name, *args, **kwargs):\n",
    "    \"\"\"\n",
    "    Create a loss instance.\n",
    "\n",
    "    Parameters\n",
    "    ----------\n",
    "    name : str\n",
    "        the name of loss function\n",
    "    \"\"\"\n",
    "    if name not in __factory:\n",
    "        raise KeyError(\"Unknown network:\", name)\n",
    "    return __factory[name](*args, **kwargs)\n"
   ]
  }
 ],
 "metadata": {
  "kernelspec": {
   "display_name": "Python 2",
   "language": "python",
   "name": "python2"
  },
  "language_info": {
   "codemirror_mode": {
    "name": "ipython",
    "version": 2
   },
   "file_extension": ".py",
   "mimetype": "text/x-python",
   "name": "python",
   "nbconvert_exporter": "python",
   "pygments_lexer": "ipython2",
   "version": "2.7.17"
  }
 },
 "nbformat": 4,
 "nbformat_minor": 2
}
